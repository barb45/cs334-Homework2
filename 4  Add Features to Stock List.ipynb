{
 "cells": [
  {
   "cell_type": "code",
   "execution_count": null,
   "id": "86a9398c",
   "metadata": {},
   "outputs": [],
   "source": [
    "import pandas as pd\n",
    "import numpy as np\n",
    "import matplotlib.pyplot as plt\n",
    "import yfinance as yf\n",
    "import xlwings as xw"
   ]
  },
  {
   "cell_type": "code",
   "execution_count": null,
   "id": "a0549e1d",
   "metadata": {},
   "outputs": [],
   "source": [
    "df = pd.read_excel(\"Model_Tickers2.xlsx\", index_col = 0).T\n",
    "df "
   ]
  },
  {
   "cell_type": "code",
   "execution_count": null,
   "id": "17046b4a",
   "metadata": {},
   "outputs": [],
   "source": [
    "df.head()"
   ]
  },
  {
   "cell_type": "code",
   "execution_count": null,
   "id": "9137ef9e",
   "metadata": {
    "scrolled": true
   },
   "outputs": [],
   "source": [
    "df_6mo = df.drop([\"Abs_Change_2yr\", \"Start_6mo-R\",\"Abs_Change_6mo\", \"%_change_6mo-R\", \"Start_2yr-R\", \"%_change_2yr-R\"], axis = 1, inplace = True)"
   ]
  },
  {
   "cell_type": "code",
   "execution_count": null,
   "id": "667dcf84",
   "metadata": {},
   "outputs": [],
   "source": [
    "df_6mo"
   ]
  },
  {
   "cell_type": "code",
   "execution_count": null,
   "id": "ac1843be",
   "metadata": {},
   "outputs": [],
   "source": [
    "pd.set_option('display.max_rows', None)"
   ]
  },
  {
   "cell_type": "code",
   "execution_count": null,
   "id": "d8a8065d",
   "metadata": {
    "scrolled": false
   },
   "outputs": [],
   "source": [
    "df.sort_values(by = \"Start_Date_6mo\", ascending = False)"
   ]
  },
  {
   "cell_type": "code",
   "execution_count": null,
   "id": "4c21dcf8",
   "metadata": {},
   "outputs": [],
   "source": [
    "df.shape"
   ]
  },
  {
   "cell_type": "code",
   "execution_count": null,
   "id": "c79e22f9",
   "metadata": {},
   "outputs": [],
   "source": [
    "date_col = pd.to_datetime(df[\"Start_Date_6mo\"], format= '%Y-%m-%d')"
   ]
  },
  {
   "cell_type": "code",
   "execution_count": null,
   "id": "50551576",
   "metadata": {},
   "outputs": [],
   "source": [
    "filtered_date_col = date_col.loc[(date_col >= '2018') & (date_col <= '2022')]\n",
    "filtered_date_col"
   ]
  },
  {
   "cell_type": "code",
   "execution_count": null,
   "id": "bcc2e1b0",
   "metadata": {},
   "outputs": [],
   "source": [
    "filtered_date_col.value_counts().sum()"
   ]
  },
  {
   "cell_type": "code",
   "execution_count": null,
   "id": "882170f9",
   "metadata": {},
   "outputs": [],
   "source": [
    "df_6mo = df[(df[\"Start_Date_6mo\"] >= '2018') & (df[\"Start_Date_6mo\"] <= '2022')].drop(columns = [\"Start_Date_2yr\", \"Adj_Close_2yr\", \"%_change_2yr\", \"Start_2yr\"]).copy()"
   ]
  },
  {
   "cell_type": "code",
   "execution_count": null,
   "id": "adf15514",
   "metadata": {},
   "outputs": [],
   "source": [
    "df_6mo"
   ]
  },
  {
   "cell_type": "code",
   "execution_count": null,
   "id": "05776554",
   "metadata": {},
   "outputs": [],
   "source": [
    "df_6mo.shape"
   ]
  },
  {
   "cell_type": "code",
   "execution_count": null,
   "id": "b04da375",
   "metadata": {},
   "outputs": [],
   "source": [
    "df_6mo[\"Target\"] = df_6mo[\"%_change_6mo\"].apply(lambda x: 1 if x >= 150 else 0)"
   ]
  },
  {
   "cell_type": "code",
   "execution_count": null,
   "id": "31c6d4bb",
   "metadata": {},
   "outputs": [],
   "source": [
    "df_6mo"
   ]
  },
  {
   "cell_type": "code",
   "execution_count": null,
   "id": "400269f3",
   "metadata": {},
   "outputs": [],
   "source": [
    "df_6mo.Target.value_counts()"
   ]
  },
  {
   "cell_type": "code",
   "execution_count": null,
   "id": "b4c6c490",
   "metadata": {},
   "outputs": [],
   "source": [
    "features = pd.read_excel(\"Model_Tickers.xlsx\", sheet_name=\"Sheet2\", header=0, index_col = \"Ticker\")"
   ]
  },
  {
   "cell_type": "code",
   "execution_count": null,
   "id": "3eaba06d",
   "metadata": {},
   "outputs": [],
   "source": [
    "features"
   ]
  },
  {
   "cell_type": "code",
   "execution_count": null,
   "id": "2a1fb78c",
   "metadata": {},
   "outputs": [],
   "source": [
    "features.drop([\"Total_Assets\", \"ROIC\"], axis = 1, inplace = True)\n",
    "features"
   ]
  },
  {
   "cell_type": "code",
   "execution_count": null,
   "id": "695a6789",
   "metadata": {},
   "outputs": [],
   "source": [
    "len(features)"
   ]
  },
  {
   "cell_type": "code",
   "execution_count": null,
   "id": "733e8a96",
   "metadata": {},
   "outputs": [],
   "source": [
    "len(df_6mo) + len(features)"
   ]
  },
  {
   "cell_type": "code",
   "execution_count": null,
   "id": "b68662c2",
   "metadata": {
    "scrolled": false
   },
   "outputs": [],
   "source": [
    "df_6mo_features = pd.merge(df_6mo, features, left_index = True, right_index = True)\n",
    "df_6mo_features"
   ]
  },
  {
   "cell_type": "code",
   "execution_count": null,
   "id": "a4692d40",
   "metadata": {},
   "outputs": [],
   "source": [
    "len(df_6mo_features)"
   ]
  },
  {
   "cell_type": "code",
   "execution_count": null,
   "id": "b7706a27",
   "metadata": {},
   "outputs": [],
   "source": [
    "df_6mo_features.to_csv(\"df_6mo_features.csv\")"
   ]
  },
  {
   "cell_type": "code",
   "execution_count": null,
   "id": "0144f6d2",
   "metadata": {},
   "outputs": [],
   "source": []
  }
 ],
 "metadata": {
  "kernelspec": {
   "display_name": "Python 3 (ipykernel)",
   "language": "python",
   "name": "python3"
  },
  "language_info": {
   "codemirror_mode": {
    "name": "ipython",
    "version": 3
   },
   "file_extension": ".py",
   "mimetype": "text/x-python",
   "name": "python",
   "nbconvert_exporter": "python",
   "pygments_lexer": "ipython3",
   "version": "3.9.7"
  }
 },
 "nbformat": 4,
 "nbformat_minor": 5
}
