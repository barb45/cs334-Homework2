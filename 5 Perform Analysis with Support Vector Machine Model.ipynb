{
 "cells": [
  {
   "cell_type": "code",
   "execution_count": null,
   "id": "154849fe",
   "metadata": {},
   "outputs": [],
   "source": [
    "import pandas as pd\n",
    "import numpy as np\n",
    "import matplotlib.pyplot as plt\n",
    "import seaborn as sns"
   ]
  },
  {
   "cell_type": "code",
   "execution_count": null,
   "id": "f3db07a9",
   "metadata": {},
   "outputs": [],
   "source": [
    "df = pd.read_csv(\"df_6mo_features.csv\", index_col = 0)"
   ]
  },
  {
   "cell_type": "code",
   "execution_count": null,
   "id": "54d0f47d",
   "metadata": {},
   "outputs": [],
   "source": [
    "df.index.rename(\"Ticker\", inplace = True)"
   ]
  },
  {
   "cell_type": "code",
   "execution_count": null,
   "id": "c980fe06",
   "metadata": {},
   "outputs": [],
   "source": [
    "df.head()"
   ]
  },
  {
   "cell_type": "code",
   "execution_count": null,
   "id": "38e4940f",
   "metadata": {},
   "outputs": [],
   "source": [
    "df.Target.unique()"
   ]
  },
  {
   "cell_type": "code",
   "execution_count": null,
   "id": "c2a4ffcf",
   "metadata": {},
   "outputs": [],
   "source": [
    "df.Target.value_counts()"
   ]
  },
  {
   "cell_type": "code",
   "execution_count": null,
   "id": "f398348b",
   "metadata": {},
   "outputs": [],
   "source": [
    "sns.countplot(x = \"Target\", data=df)"
   ]
  },
  {
   "cell_type": "code",
   "execution_count": null,
   "id": "a1c6c8a1",
   "metadata": {},
   "outputs": [],
   "source": [
    "df = df.drop(['Start_Date_6mo', 'Adj_Close_6mo', 'Start_6mo', '%_change_6mo', 'Date_of_interest'], axis = 1)"
   ]
  },
  {
   "cell_type": "code",
   "execution_count": null,
   "id": "afd67371",
   "metadata": {},
   "outputs": [],
   "source": [
    "df[\"Exceeds_150%\"] = (df[\"Target\"] == 1)"
   ]
  },
  {
   "cell_type": "code",
   "execution_count": null,
   "id": "54035fb1",
   "metadata": {},
   "outputs": [],
   "source": [
    "df.corr()[\"Exceeds_150%\"]"
   ]
  },
  {
   "cell_type": "code",
   "execution_count": null,
   "id": "66fcda08",
   "metadata": {},
   "outputs": [],
   "source": [
    "df.corr()[\"Exceeds_150%\"][:][2:-1].sort_values().plot(kind=\"bar\", cmap = \"rainbow_r\")"
   ]
  },
  {
   "cell_type": "code",
   "execution_count": null,
   "id": "239c5dcf",
   "metadata": {},
   "outputs": [],
   "source": [
    "plt.figure(figsize = (12,6))\n",
    "sns.scatterplot(x = \"Ticker\", y = \"Pct_change_6mo\", data = df, s = 140, hue = \"Earnings Change\", palette = 'rocket')\n",
    "plt.xticks(rotation = 45)\n",
    "plt.show()"
   ]
  },
  {
   "cell_type": "code",
   "execution_count": null,
   "id": "1ea626f9",
   "metadata": {},
   "outputs": [],
   "source": [
    "df"
   ]
  },
  {
   "cell_type": "markdown",
   "id": "bb895ad7",
   "metadata": {},
   "source": [
    "### Analyze with Support Vector Machine Model"
   ]
  },
  {
   "cell_type": "code",
   "execution_count": null,
   "id": "93268a1b",
   "metadata": {},
   "outputs": [],
   "source": [
    "X  = df.drop([\"Target\", \"Pct_change_6mo\", \"Industry\", \"Exceeds_150%\"],axis = 1)\n",
    "y = df[\"Target\"]"
   ]
  },
  {
   "cell_type": "code",
   "execution_count": null,
   "id": "99dfa90b",
   "metadata": {},
   "outputs": [],
   "source": [
    "from sklearn.model_selection import train_test_split"
   ]
  },
  {
   "cell_type": "code",
   "execution_count": null,
   "id": "50ff3102",
   "metadata": {},
   "outputs": [],
   "source": [
    "X_train, X_test, y_train, y_test = train_test_split(X, y, test_size = .2, random_state = 101)"
   ]
  },
  {
   "cell_type": "code",
   "execution_count": null,
   "id": "8e20e008",
   "metadata": {},
   "outputs": [],
   "source": [
    "X_train.head()"
   ]
  },
  {
   "cell_type": "code",
   "execution_count": null,
   "id": "24b2db74",
   "metadata": {},
   "outputs": [],
   "source": [
    "from sklearn.preprocessing import StandardScaler"
   ]
  },
  {
   "cell_type": "code",
   "execution_count": null,
   "id": "495cee07",
   "metadata": {},
   "outputs": [],
   "source": [
    "scaler = StandardScaler()"
   ]
  },
  {
   "cell_type": "code",
   "execution_count": null,
   "id": "423ae344",
   "metadata": {},
   "outputs": [],
   "source": [
    "scaled_X_train = scaler.fit_transform(X_train)\n",
    "scaled_X_test = scaler.transform(X_test)"
   ]
  },
  {
   "cell_type": "code",
   "execution_count": null,
   "id": "efc6b4fd",
   "metadata": {},
   "outputs": [],
   "source": [
    "from sklearn.svm import SVC"
   ]
  },
  {
   "cell_type": "code",
   "execution_count": null,
   "id": "75e61925",
   "metadata": {},
   "outputs": [],
   "source": [
    "svc = SVC(class_weight = \"balanced\")"
   ]
  },
  {
   "cell_type": "code",
   "execution_count": null,
   "id": "2c1e7ea6",
   "metadata": {},
   "outputs": [],
   "source": [
    "from sklearn.model_selection import GridSearchCV"
   ]
  },
  {
   "cell_type": "code",
   "execution_count": null,
   "id": "f341d6ba",
   "metadata": {},
   "outputs": [],
   "source": [
    "param_grid = {'C': [0.001, 0.01, 0.1, 0.5, 1], 'gamma': ['scale', 'auto']}\n",
    "grid = GridSearchCV(svc, param_grid)"
   ]
  },
  {
   "cell_type": "code",
   "execution_count": null,
   "id": "d17adfb1",
   "metadata": {},
   "outputs": [],
   "source": [
    "grid.fit(scaled_X_train, y_train)"
   ]
  },
  {
   "cell_type": "code",
   "execution_count": null,
   "id": "007d7e3a",
   "metadata": {},
   "outputs": [],
   "source": [
    "grid.best_params_"
   ]
  },
  {
   "cell_type": "code",
   "execution_count": null,
   "id": "72bcd9a0",
   "metadata": {},
   "outputs": [],
   "source": [
    "from sklearn.metrics import confusion_matrix, classification_report"
   ]
  },
  {
   "cell_type": "code",
   "execution_count": null,
   "id": "e4aef05f",
   "metadata": {},
   "outputs": [],
   "source": [
    "grid_pred = grid.predict(scaled_X_test)\n",
    "grid_pred"
   ]
  },
  {
   "cell_type": "code",
   "execution_count": null,
   "id": "1f33eb55",
   "metadata": {},
   "outputs": [],
   "source": [
    "confusion_matrix(y_test, grid_pred)"
   ]
  },
  {
   "cell_type": "code",
   "execution_count": null,
   "id": "2926ca84",
   "metadata": {},
   "outputs": [],
   "source": [
    "print(classification_report(y_test, grid_pred, labels = np.unique(grid_pred)))"
   ]
  },
  {
   "cell_type": "code",
   "execution_count": null,
   "id": "3457b780",
   "metadata": {},
   "outputs": [],
   "source": [
    "df.columns[3:11]"
   ]
  },
  {
   "cell_type": "code",
   "execution_count": null,
   "id": "55e269d5",
   "metadata": {},
   "outputs": [],
   "source": [
    "new_stock = [[-11.848920,-28.302362, -264096000, 2.670000e+03, -98912.356724, -300.174127, 0.098295,0.708433]]"
   ]
  },
  {
   "cell_type": "code",
   "execution_count": null,
   "id": "5cc366cb",
   "metadata": {},
   "outputs": [],
   "source": [
    "new_stock = np.array(new_stock).reshape(1,-1)"
   ]
  },
  {
   "cell_type": "code",
   "execution_count": null,
   "id": "8896be63",
   "metadata": {},
   "outputs": [],
   "source": [
    "grid.predict(new_stock)"
   ]
  },
  {
   "cell_type": "code",
   "execution_count": null,
   "id": "7e74bbe7",
   "metadata": {},
   "outputs": [],
   "source": []
  },
  {
   "cell_type": "code",
   "execution_count": null,
   "id": "be0215c9",
   "metadata": {},
   "outputs": [],
   "source": []
  }
 ],
 "metadata": {
  "kernelspec": {
   "display_name": "Python 3 (ipykernel)",
   "language": "python",
   "name": "python3"
  },
  "language_info": {
   "codemirror_mode": {
    "name": "ipython",
    "version": 3
   },
   "file_extension": ".py",
   "mimetype": "text/x-python",
   "name": "python",
   "nbconvert_exporter": "python",
   "pygments_lexer": "ipython3",
   "version": "3.9.7"
  }
 },
 "nbformat": 4,
 "nbformat_minor": 5
}
