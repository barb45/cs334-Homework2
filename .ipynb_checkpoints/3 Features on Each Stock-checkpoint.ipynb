{
 "cells": [
  {
   "cell_type": "code",
   "execution_count": null,
   "id": "1096abad",
   "metadata": {},
   "outputs": [],
   "source": [
    "import pandas as pd\n",
    "import numpy as np\n",
    "import matplotlib.pyplot as plt\n",
    "import yfinance as yf\n",
    "import xlwings as xw"
   ]
  },
  {
   "cell_type": "markdown",
   "id": "d8d0034d",
   "metadata": {},
   "source": [
    "### Feature characteristics:\n",
    "#### Positive Earnings Revisions\n",
    "#### Positive Earnings Surprises\n",
    "     Both of these not easy to get in retrospect - see if yfinance has anything like it.\n",
    "#### Sales Growth\n",
    "     Year-over-year increase of 20% or more - need revenue this year and last year\n",
    "#### Expanding Operating Margins\n",
    "     Expanding year over year and quarter over quarter - need previous quarterly & yearly\n",
    "#### Free Cash Flow\n",
    "     FCF compared to market capitalization - need FCF and market cap -CF statement CFFO-Capex\n",
    "#### Earnings Growth\n",
    "     Growing consistently y-o-y 10% or more in last quarter\n",
    "#### Positive Earnings Momentum\n",
    "     Earnings growing at an increasing rate - rate of growth of earnings this quarter compared to last\n",
    "#### Return on Equity\n",
    "    Starts high and moves higher\n"
   ]
  },
  {
   "cell_type": "code",
   "execution_count": null,
   "id": "41dc7682",
   "metadata": {},
   "outputs": [],
   "source": [
    "growth_list_6mo = [\"AKBA\", \"ALB\", \"ARVN\", \"AYX\", 'BRK-B',\"BAND\", \"BRN\", \"COIN\", \n",
    "                    \"COST\", \"DVN\", \"EGIO\", \"ENPH\", \"EOG\", \"EQX\", \"ETSY\", \"EVER\", \"IIPR\", \"KEYS\", \n",
    "                    'KNSL', 'LLY', 'NOW', 'OESX','QS', 'ROKU', 'MAXR', 'MTSI', 'CALX',\n",
    "                    'FE', 'PH', 'RIG', 'BTU']"
   ]
  },
  {
   "cell_type": "code",
   "execution_count": null,
   "id": "1e4fc64f",
   "metadata": {},
   "outputs": [],
   "source": [
    "ticker = \"COST\"  "
   ]
  },
  {
   "cell_type": "code",
   "execution_count": null,
   "id": "bb1bc876",
   "metadata": {},
   "outputs": [],
   "source": [
    "df = yf.download(ticker, start = \"2002-01-01\", end = \"2022-11-25\")"
   ]
  },
  {
   "cell_type": "code",
   "execution_count": null,
   "id": "c21d78e5",
   "metadata": {},
   "outputs": [],
   "source": [
    "type(\"Date\")"
   ]
  },
  {
   "cell_type": "code",
   "execution_count": null,
   "id": "11df19ef",
   "metadata": {},
   "outputs": [],
   "source": [
    "ticker"
   ]
  },
  {
   "cell_type": "code",
   "execution_count": null,
   "id": "60b204b6",
   "metadata": {},
   "outputs": [],
   "source": [
    "df"
   ]
  },
  {
   "cell_type": "code",
   "execution_count": null,
   "id": "3f39692e",
   "metadata": {},
   "outputs": [],
   "source": [
    "df.info()"
   ]
  },
  {
   "cell_type": "code",
   "execution_count": null,
   "id": "62788dce",
   "metadata": {},
   "outputs": [],
   "source": [
    "df.rename(columns = {\"Adj Close\": \"Adj_Close\"}, inplace = True)"
   ]
  },
  {
   "cell_type": "code",
   "execution_count": null,
   "id": "e6128bd1",
   "metadata": {},
   "outputs": [],
   "source": [
    "df = df[\"Adj_Close\"].copy().to_frame()"
   ]
  },
  {
   "cell_type": "code",
   "execution_count": null,
   "id": "31b7921c",
   "metadata": {},
   "outputs": [],
   "source": [
    "df.head()"
   ]
  },
  {
   "cell_type": "code",
   "execution_count": null,
   "id": "684a197c",
   "metadata": {},
   "outputs": [],
   "source": [
    "df.Adj_Close.iloc[126]"
   ]
  },
  {
   "cell_type": "code",
   "execution_count": null,
   "id": "dcf4d12a",
   "metadata": {},
   "outputs": [],
   "source": [
    "df[\"6mo\"] = df.shift(periods = 126) #shift 6 months"
   ]
  },
  {
   "cell_type": "code",
   "execution_count": null,
   "id": "64b16001",
   "metadata": {},
   "outputs": [],
   "source": [
    "df[\"6mo\"]"
   ]
  },
  {
   "cell_type": "code",
   "execution_count": null,
   "id": "b42b2e23",
   "metadata": {},
   "outputs": [],
   "source": [
    "df[\"Start\"] = df.Adj_Close.shift(periods = 504) #shift 6 months"
   ]
  },
  {
   "cell_type": "code",
   "execution_count": null,
   "id": "81abd86a",
   "metadata": {},
   "outputs": [],
   "source": [
    "df[\"Start\"]"
   ]
  },
  {
   "cell_type": "code",
   "execution_count": null,
   "id": "18f59055",
   "metadata": {},
   "outputs": [],
   "source": [
    "df"
   ]
  },
  {
   "cell_type": "code",
   "execution_count": null,
   "id": "71d79aad",
   "metadata": {},
   "outputs": [],
   "source": [
    "df[\"Abs_Change_2yr\"] =df.Adj_Close.sub(df.Start)"
   ]
  },
  {
   "cell_type": "code",
   "execution_count": null,
   "id": "891de022",
   "metadata": {},
   "outputs": [],
   "source": [
    "df[\"Abs_Change_6mo\"] = df[\"6mo\"].sub(df.Start)"
   ]
  },
  {
   "cell_type": "code",
   "execution_count": null,
   "id": "0d9b86be",
   "metadata": {},
   "outputs": [],
   "source": [
    "df"
   ]
  },
  {
   "cell_type": "code",
   "execution_count": null,
   "id": "14f26539",
   "metadata": {},
   "outputs": [],
   "source": [
    "df[\"%_change_2yr\"] =(df.Adj_Close / df.Start -1) * 100"
   ]
  },
  {
   "cell_type": "code",
   "execution_count": null,
   "id": "ef3e2e4a",
   "metadata": {},
   "outputs": [],
   "source": [
    "df[\"%_change_2yr\"]"
   ]
  },
  {
   "cell_type": "code",
   "execution_count": null,
   "id": "681c36ea",
   "metadata": {},
   "outputs": [],
   "source": [
    "df[\"%_change_6mo\"] =((df.Adj_Close / df[\"6mo\"]) -1) * 100"
   ]
  },
  {
   "cell_type": "code",
   "execution_count": null,
   "id": "86c20f74",
   "metadata": {},
   "outputs": [],
   "source": [
    "df[\"%_change_6mo\"]"
   ]
  },
  {
   "cell_type": "code",
   "execution_count": null,
   "id": "dc49a533",
   "metadata": {},
   "outputs": [],
   "source": [
    "df.tail()"
   ]
  },
  {
   "cell_type": "code",
   "execution_count": null,
   "id": "e0dbc72e",
   "metadata": {},
   "outputs": [],
   "source": [
    "df[\"%_change_2yr\"].max()"
   ]
  },
  {
   "cell_type": "code",
   "execution_count": null,
   "id": "7469dc03",
   "metadata": {},
   "outputs": [],
   "source": [
    "Pct_change_6mo = df[\"%_change_6mo\"].max()\n",
    "Pct_change_6mo"
   ]
  },
  {
   "cell_type": "code",
   "execution_count": null,
   "id": "1a5f6b5e",
   "metadata": {},
   "outputs": [],
   "source": [
    "df.iloc[df[\"%_change_2yr\"].argmax()]"
   ]
  },
  {
   "cell_type": "code",
   "execution_count": null,
   "id": "824de8e3",
   "metadata": {},
   "outputs": [],
   "source": [
    "df.iloc[df[\"%_change_6mo\"].argmax()]"
   ]
  },
  {
   "cell_type": "markdown",
   "id": "49700d6b",
   "metadata": {},
   "source": [
    "### Get fundamental data"
   ]
  },
  {
   "cell_type": "code",
   "execution_count": null,
   "id": "62635747",
   "metadata": {},
   "outputs": [],
   "source": [
    "#First make a ticker object 2 steps\n",
    "# ticker = \"AKBA\"  #can add more\n",
    "stock = yf.Ticker(ticker)"
   ]
  },
  {
   "cell_type": "code",
   "execution_count": null,
   "id": "ca3f0b20",
   "metadata": {},
   "outputs": [],
   "source": [
    "df_prices = yf.download(ticker, start = \"2018-01-01\", end = \"2022-11-25\") #??"
   ]
  },
  {
   "cell_type": "code",
   "execution_count": null,
   "id": "4f287d3f",
   "metadata": {},
   "outputs": [],
   "source": [
    "#Access the info keys\n",
    "stock_info = stock.info\n",
    "#stock_info.keys()"
   ]
  },
  {
   "cell_type": "code",
   "execution_count": null,
   "id": "465a97a8",
   "metadata": {
    "scrolled": true
   },
   "outputs": [],
   "source": [
    "stock_info[\"symbol\"]"
   ]
  },
  {
   "cell_type": "code",
   "execution_count": null,
   "id": "50068d99",
   "metadata": {},
   "outputs": [],
   "source": [
    "#access data using the keys.  It doesn't get all of them\n",
    "sector = stock_info[\"sector\"]\n",
    "sector"
   ]
  },
  {
   "cell_type": "code",
   "execution_count": null,
   "id": "684356f8",
   "metadata": {},
   "outputs": [],
   "source": [
    "stock.info[\"marketCap\"]"
   ]
  },
  {
   "cell_type": "code",
   "execution_count": null,
   "id": "61aa7cd2",
   "metadata": {},
   "outputs": [],
   "source": [
    "income_stmt = stock.get_financials()\n",
    "income_stmt = income_stmt.astype(\"float\")\n",
    "#stock_pnl.info()\n",
    "income_stmt"
   ]
  },
  {
   "cell_type": "code",
   "execution_count": null,
   "id": "4af44197",
   "metadata": {},
   "outputs": [],
   "source": [
    "cashflow_stmt = stock.get_cashflow()\n",
    "cashflow_stmt = cashflow_stmt.astype(\"float\")\n",
    "# cashflow_stmt.info()\n",
    "cashflow_stmt"
   ]
  },
  {
   "cell_type": "code",
   "execution_count": null,
   "id": "4ccc37ec",
   "metadata": {},
   "outputs": [],
   "source": [
    "#roku.balancesheet\n",
    "balance_sheet = stock.get_balancesheet()\n",
    "balance_sheet = balance_sheet.astype(\"float\")\n",
    "#balance_sheet.info()\n",
    "balance_sheet"
   ]
  },
  {
   "cell_type": "code",
   "execution_count": null,
   "id": "3c065da0",
   "metadata": {},
   "outputs": [],
   "source": [
    "years = income_stmt.columns\n",
    "years"
   ]
  },
  {
   "cell_type": "markdown",
   "id": "e48ecd25",
   "metadata": {},
   "source": [
    "### Set by date of interest"
   ]
  },
  {
   "cell_type": "code",
   "execution_count": null,
   "id": "f16b7892",
   "metadata": {},
   "outputs": [],
   "source": [
    "#Sales growth (This is displayed as %)\n",
    "#Current year\n",
    "revenue_current = income_stmt[years[0]][\"Total Revenue\"] \n",
    "#Past year\n",
    "revenue_last = income_stmt[years[1]][\"Total Revenue\"]\n",
    "sales_growth= ((revenue_current / revenue_last) -1) *100\n",
    "sales_growth"
   ]
  },
  {
   "cell_type": "code",
   "execution_count": null,
   "id": "79184727",
   "metadata": {},
   "outputs": [],
   "source": [
    "#Expanding operating margin (displayed as %)\n",
    "#Current year\n",
    "operating_margin_current = income_stmt[years[0]][\"Operating Income\"] - income_stmt[years[0]][\"Total Operating Expenses\"]\n",
    "#Past year\n",
    "operating_margin_last = income_stmt[years[1]][\"Operating Income\"] - income_stmt[years[1]][\"Total Operating Expenses\"]\n",
    "operating_margin_change = ((operating_margin_current / operating_margin_last) -1) *100\n",
    "operating_margin_change"
   ]
  },
  {
   "cell_type": "code",
   "execution_count": null,
   "id": "3c30c361",
   "metadata": {},
   "outputs": [],
   "source": [
    "#Free cash flow\n",
    "#Past year for both\n",
    "cashflow_oper_act = cashflow_stmt[years[1]][\"Total Cash From Operating Activities\"]\n",
    "capex = cashflow_stmt[years[1]][\"Capital Expenditures\"]\n",
    "free_cash_flow = cashflow_oper_act + capex #CAPEX is in negative numbers\n",
    "free_cash_flow"
   ]
  },
  {
   "cell_type": "code",
   "execution_count": null,
   "id": "fbe9a050",
   "metadata": {},
   "outputs": [],
   "source": [
    "#market cap = shares outstanding * price of shares #Use current & date of interest\n",
    "#Past year\n",
    "shares_out = balance_sheet[years[2]][\"Common Stock\"]\n",
    "#Date of interest\n",
    "price = df.loc[\"2021-09-03\", \"Adj_Close\"]\n",
    "marketcap = shares_out * price\n",
    "shares_out\n",
    "marketcap"
   ]
  },
  {
   "cell_type": "code",
   "execution_count": null,
   "id": "c1ed76a6",
   "metadata": {},
   "outputs": [],
   "source": [
    "#free cash flow yield = fcf / market cap\n",
    "fcf_yield = free_cash_flow/marketcap\n",
    "fcf_yield"
   ]
  },
  {
   "cell_type": "code",
   "execution_count": null,
   "id": "27deaafd",
   "metadata": {},
   "outputs": [],
   "source": [
    "#Additional calculation of fcf_yield\n",
    "#Free cash flow per share/price per share\n",
    "fcf_share = free_cash_flow/shares_out\n",
    "price_per_share = df.iloc[df[\"%_change_6mo\"].argmax()][0]\n",
    "# price_per_share\n",
    "fcf_yield = fcf_share/price_per_share\n",
    "fcf_yield"
   ]
  },
  {
   "cell_type": "code",
   "execution_count": null,
   "id": "39b5a600",
   "metadata": {},
   "outputs": [],
   "source": [
    "#Expanding earnings (displayed as %)\n",
    "#current year\n",
    "earnings_current = income_stmt[years[0]][\"Operating Income\"]\n",
    "#Past year\n",
    "earnings_last = income_stmt[years[1]][\"Operating Income\"]\n",
    "earnings_change = ((earnings_current / earnings_last) -1) *100\n",
    "earnings_change"
   ]
  },
  {
   "cell_type": "code",
   "execution_count": null,
   "id": "3c3484a1",
   "metadata": {},
   "outputs": [],
   "source": [
    "#Debt ratio = total debt /total assets (displayed as %)\n",
    "#Past year\n",
    "total_debt = balance_sheet[years[1]][\"Long Term Debt\"]+ balance_sheet[years[1]][\"Short Long Term Debt\"] \n",
    "#Past year\n",
    "total_assets = balance_sheet[years[1]][\"Total Assets\"]\n",
    "debt_ratio = total_debt / total_assets\n",
    "debt_ratio\n"
   ]
  },
  {
   "cell_type": "code",
   "execution_count": null,
   "id": "7cca8e4a",
   "metadata": {},
   "outputs": [],
   "source": [
    "#Return on equity = Net income / shareholders' equity\n",
    "#Past year for both\n",
    "net_income = income_stmt[years[1]][\"Net Income\"] \n",
    "shareholders_equity = balance_sheet[years[1]][\"Total Stockholder Equity\"]\n",
    "return_on_equity = net_income / shareholders_equity\n",
    "return_on_equity = return_on_equity * 100\n",
    "return_on_equity\n"
   ]
  },
  {
   "cell_type": "code",
   "execution_count": null,
   "id": "cc40c967",
   "metadata": {},
   "outputs": [],
   "source": [
    "#Return on invested capital = NOPAT / Invested capital, effective tax rate = tax expense / net income\n",
    "#Past year for both\n",
    "effective_tax_rate = income_stmt[years[1]][\"Income Tax Expense\"] / income_stmt[years[1]][\"Net Income\"]\n",
    "operating_profit = income_stmt[years[1]][\"Operating Income\"] - income_stmt[years[1]][\"Total Operating Expenses\"]\n",
    "#operating_profit\n",
    "NOPAT = operating_profit * (1 - effective_tax_rate)\n",
    "#Past year\n",
    "invested_capital = balance_sheet[years[1]][\"Long Term Debt\"]+ balance_sheet[years[1]][\"Short Long Term Debt\"]\n",
    "+ balance_sheet[years[2]][\"Total Stockholder Equity\"]\n",
    "ROIC = NOPAT / invested_capital\n",
    "ROIC"
   ]
  },
  {
   "cell_type": "code",
   "execution_count": null,
   "id": "22937870",
   "metadata": {},
   "outputs": [],
   "source": [
    "total_assets = balance_sheet[years[1]][\"Total Assets\"]\n",
    "total_assets"
   ]
  },
  {
   "cell_type": "markdown",
   "id": "e0c85425",
   "metadata": {},
   "source": [
    "###  Insert this into Excel via XLwings "
   ]
  },
  {
   "cell_type": "code",
   "execution_count": null,
   "id": "aab441dd",
   "metadata": {},
   "outputs": [],
   "source": [
    "path = \"Model_Tickers.xlsx\""
   ]
  },
  {
   "cell_type": "code",
   "execution_count": null,
   "id": "b5a4afdf",
   "metadata": {},
   "outputs": [],
   "source": [
    "wb = xw.Book(path)\n",
    "wb"
   ]
  },
  {
   "cell_type": "code",
   "execution_count": null,
   "id": "e5f63d56",
   "metadata": {},
   "outputs": [],
   "source": [
    "sheet2 = wb.sheets[2]\n",
    "sheet2"
   ]
  },
  {
   "cell_type": "code",
   "execution_count": null,
   "id": "5cd8d462",
   "metadata": {},
   "outputs": [],
   "source": [
    "sheet2.range(\"A34\").value = ticker"
   ]
  },
  {
   "cell_type": "code",
   "execution_count": null,
   "id": "0463e8fb",
   "metadata": {},
   "outputs": [],
   "source": [
    "sheet2.range(\"B34\").value = #date of interest"
   ]
  },
  {
   "cell_type": "code",
   "execution_count": null,
   "id": "c3a13e5b",
   "metadata": {},
   "outputs": [],
   "source": [
    "sheet2.range(\"C34\").value = Pct_change_6mo"
   ]
  },
  {
   "cell_type": "code",
   "execution_count": null,
   "id": "a6201a2e",
   "metadata": {},
   "outputs": [],
   "source": [
    "sheet2.range(\"D34\").value = sector"
   ]
  },
  {
   "cell_type": "code",
   "execution_count": null,
   "id": "03953685",
   "metadata": {},
   "outputs": [],
   "source": [
    "sheet2.range(\"E34\").value = sales_growth"
   ]
  },
  {
   "cell_type": "code",
   "execution_count": null,
   "id": "27790dc4",
   "metadata": {},
   "outputs": [],
   "source": [
    "sheet2.range(\"F34\").value = operating_margin_change"
   ]
  },
  {
   "cell_type": "code",
   "execution_count": null,
   "id": "03146d2a",
   "metadata": {},
   "outputs": [],
   "source": [
    "sheet2.range(\"G34\").value = free_cash_flow"
   ]
  },
  {
   "cell_type": "code",
   "execution_count": null,
   "id": "0f9b76a4",
   "metadata": {},
   "outputs": [],
   "source": [
    "sheet2.range(\"H34\").value = marketcap"
   ]
  },
  {
   "cell_type": "code",
   "execution_count": null,
   "id": "84da052a",
   "metadata": {},
   "outputs": [],
   "source": [
    "sheet2.range(\"I34\").value = fcf_yield"
   ]
  },
  {
   "cell_type": "code",
   "execution_count": null,
   "id": "2b4af6ca",
   "metadata": {},
   "outputs": [],
   "source": [
    "sheet2.range(\"J34\").value = earnings_change"
   ]
  },
  {
   "cell_type": "code",
   "execution_count": null,
   "id": "86957fbb",
   "metadata": {},
   "outputs": [],
   "source": [
    "sheet2.range(\"K34\").value = debt_ratio"
   ]
  },
  {
   "cell_type": "code",
   "execution_count": null,
   "id": "ec094fb9",
   "metadata": {},
   "outputs": [],
   "source": [
    "sheet2.range(\"L31\").value = return_on_equity"
   ]
  },
  {
   "cell_type": "code",
   "execution_count": null,
   "id": "41e5352c",
   "metadata": {},
   "outputs": [],
   "source": [
    "sheet2.range(\"M34\").value = ROIC"
   ]
  },
  {
   "cell_type": "code",
   "execution_count": null,
   "id": "75db83aa",
   "metadata": {},
   "outputs": [],
   "source": [
    "sheet2.range(\"N34\").value = total_assets"
   ]
  }
 ],
 "metadata": {
  "kernelspec": {
   "display_name": "Python 3 (ipykernel)",
   "language": "python",
   "name": "python3"
  },
  "language_info": {
   "codemirror_mode": {
    "name": "ipython",
    "version": 3
   },
   "file_extension": ".py",
   "mimetype": "text/x-python",
   "name": "python",
   "nbconvert_exporter": "python",
   "pygments_lexer": "ipython3",
   "version": "3.9.7"
  }
 },
 "nbformat": 4,
 "nbformat_minor": 5
}
