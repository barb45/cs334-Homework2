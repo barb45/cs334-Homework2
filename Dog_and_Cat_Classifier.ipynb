{
 "cells": [
  {
   "cell_type": "code",
   "execution_count": null,
   "metadata": {
    "colab": {
     "base_uri": "https://localhost:8080/"
    },
    "id": "v7u_5qU0OxYB",
    "outputId": "53f966ca-bbb0-4ba5-8374-7d9f7951b39f"
   },
   "outputs": [],
   "source": [
    "import tensorflow as tf\n",
    "import numpy as np\n",
    "print(tf.__version__)\n",
    "import pandas as pd\n",
    "import numpy as np"
   ]
  },
  {
   "cell_type": "code",
   "execution_count": null,
   "metadata": {
    "id": "lmw7E0TjPMXu"
   },
   "outputs": [],
   "source": [
    "from os import listdir\n",
    "from matplotlib import pyplot\n",
    "from numpy import asarray\n",
    "from numpy import save\n",
    "import numpy as np\n",
    "from tensorflow.keras.utils import *\n",
    "#import tensorflow_datasets as tfds\n",
    "from tensorflow.keras.utils import load_img\n",
    "from tensorflow.keras.utils import img_to_array\n",
    "import cv2 as cv\n",
    "import re\n"
   ]
  },
  {
   "cell_type": "code",
   "execution_count": null,
   "metadata": {
    "id": "dx797-zYiwSR"
   },
   "outputs": [],
   "source": [
    "path1 = 'dogdata/'"
   ]
  },
  {
   "cell_type": "code",
   "execution_count": null,
   "metadata": {
    "id": "_fGncjbuxrUm"
   },
   "outputs": [],
   "source": [
    "pics1 = []\n",
    "labels1 = []\n",
    "for file in listdir(path1):\n",
    "    if re.match(r'd[a-zA-Z0-9\\\\.]+', file):\n",
    "        output = 0.0\n",
    "        labels1.append(output)\n",
    "    else:\n",
    "        output = 1.0\n",
    "        labels1.append(output)\n",
    "    photo = load_img(path1+file, target_size = (150,150))\n",
    "    photo = img_to_array(photo)\n",
    "    pics1.append(photo)"
   ]
  },
  {
   "cell_type": "code",
   "execution_count": null,
   "metadata": {
    "colab": {
     "base_uri": "https://localhost:8080/"
    },
    "id": "KzyGm5Dg9quv",
    "outputId": "1c349bfe-5ce6-4816-fc7e-6663035dd159"
   },
   "outputs": [],
   "source": [
    "labels1"
   ]
  },
  {
   "cell_type": "code",
   "execution_count": null,
   "metadata": {
    "colab": {
     "base_uri": "https://localhost:8080/"
    },
    "id": "seBCip4b-Z8m",
    "outputId": "38b1bb43-a6ca-460e-d50e-afd73c08dbc8"
   },
   "outputs": [],
   "source": [
    "pics1"
   ]
  },
  {
   "cell_type": "code",
   "execution_count": null,
   "metadata": {
    "colab": {
     "base_uri": "https://localhost:8080/"
    },
    "id": "sVmCDrv5-8tC",
    "outputId": "42b0d4b7-7fa1-4399-9795-044e8e255040"
   },
   "outputs": [],
   "source": [
    "train_images1 = asarray(pics1)\n",
    "train_labels1 = asarray(labels1)\n",
    "print(train_images1.shape)\n",
    "print(train_labels1.shape)\n",
    "save('dog_cats1.npy', train_images1)\n",
    "save('dog_cats_labels1.npy', train_labels1)"
   ]
  },
  {
   "cell_type": "code",
   "execution_count": null,
   "metadata": {
    "colab": {
     "base_uri": "https://localhost:8080/"
    },
    "id": "__gOfqyM2f-x",
    "outputId": "2923ce45-4140-4f1c-95d1-e5ab73047f8b"
   },
   "outputs": [],
   "source": [
    "dogs = 0\n",
    "cats = 0\n",
    "for i in labels1:\n",
    "    if i == 0:\n",
    "        dogs += 1\n",
    "    else:\n",
    "        cats += 1\n",
    "print('dogs = {}, cats = {}'.format(dogs, cats))"
   ]
  },
  {
   "cell_type": "code",
   "execution_count": null,
   "metadata": {
    "id": "kY465oTcrulD"
   },
   "outputs": [],
   "source": [
    "path2 = 'dataset/cat_dog/'"
   ]
  },
  {
   "cell_type": "code",
   "execution_count": null,
   "metadata": {
    "id": "4OrRcZCNAdmI"
   },
   "outputs": [],
   "source": [
    "pics2 = [] \n",
    "labels2 = []\n",
    "\n",
    "for file in listdir(path2):\n",
    "    if re.match(r'd[a-zA-Z0-9\\\\.]+', file):\n",
    "        output = 0.0\n",
    "        labels2.append(output)\n",
    "    else:\n",
    "        output = 1.0\n",
    "        labels2.append(output)\n",
    "    photo = load_img(path2+file, target_size = (150,150))\n",
    "    photo = img_to_array(photo)\n",
    "    pics2.append(photo)\n",
    "  \n",
    "  "
   ]
  },
  {
   "cell_type": "code",
   "execution_count": null,
   "metadata": {
    "colab": {
     "base_uri": "https://localhost:8080/"
    },
    "id": "w_s4UZqAysso",
    "outputId": "8f55fef9-9fac-4a5b-f0f9-8b4e8a05d30f"
   },
   "outputs": [],
   "source": [
    "test_images2 = asarray(pics2)\n",
    "test_labels2 = asarray(labels2)\n",
    "print(test_images2.shape)\n",
    "print(test_labels2.shape)\n",
    "save('dog_cats2.npy', test_images2)\n",
    "save('dog_cats2_labels.npy', test_labels2)"
   ]
  },
  {
   "cell_type": "code",
   "execution_count": null,
   "metadata": {
    "colab": {
     "base_uri": "https://localhost:8080/"
    },
    "id": "MuXUg0O93Mz7",
    "outputId": "1da15759-01b9-4e01-8e7b-ab145dd10a2d"
   },
   "outputs": [],
   "source": [
    "dogs = 0\n",
    "cats = 0\n",
    "for i in labels2:\n",
    "    if i == 0:\n",
    "        dogs += 1\n",
    "    else:\n",
    "        cats += 1\n",
    "print('dogs = {}, cats = {}'.format(dogs, cats))"
   ]
  },
  {
   "cell_type": "code",
   "execution_count": null,
   "metadata": {
    "id": "Ccr8RI2TuQnQ"
   },
   "outputs": [],
   "source": [
    "model_cat_dog = tf.keras.models.Sequential([tf.keras.layers.Conv2D(32, (3,3), activation = \"relu\", input_shape = (150, 150, 3)),\n",
    "                                            tf.keras.layers.MaxPooling2D((2,2)),\n",
    "                                            tf.keras.layers.Conv2D(32, (3,3), activation = \"relu\"),\n",
    "                                            tf.keras.layers.MaxPooling2D((2,2)),\n",
    "                                            tf.keras.layers.Conv2D(32, (3,3), activation = \"relu\"),\n",
    "                                            tf.keras.layers.MaxPooling2D((2,2)),\n",
    "                                            tf.keras.layers.Conv2D(32, (3,3), activation = \"relu\"),\n",
    "                                            tf.keras.layers.MaxPooling2D((2,2)),\n",
    "                                            tf.keras.layers.Flatten(),\n",
    "                                            tf.keras.layers.Dense(512, activation = \"relu\"),\n",
    "                                            tf.keras.layers.Dense(1, activation= \"sigmoid\")\n",
    "])"
   ]
  },
  {
   "cell_type": "code",
   "execution_count": null,
   "metadata": {
    "colab": {
     "base_uri": "https://localhost:8080/"
    },
    "id": "JCFHJsqswzVv",
    "outputId": "fa6ea795-1e13-4927-a327-f76a2363b87e"
   },
   "outputs": [],
   "source": [
    "model_cat_dog.summary()"
   ]
  },
  {
   "cell_type": "code",
   "execution_count": null,
   "metadata": {
    "id": "K4NEvI40yUH2"
   },
   "outputs": [],
   "source": [
    "model_cat_dog.compile(optimizer = 'rmsprop', loss = 'binary_crossentropy', metrics=['accuracy'])"
   ]
  },
  {
   "cell_type": "code",
   "execution_count": null,
   "metadata": {
    "id": "rFquJSCe4f-f"
   },
   "outputs": [],
   "source": [
    "train_images1 = train_images1/255.0"
   ]
  },
  {
   "cell_type": "code",
   "execution_count": null,
   "metadata": {
    "id": "dSAAnrcy4gbe"
   },
   "outputs": [],
   "source": [
    "test_images2 = test_images2/255.0"
   ]
  },
  {
   "cell_type": "code",
   "execution_count": null,
   "metadata": {
    "colab": {
     "base_uri": "https://localhost:8080/"
    },
    "id": "sDYsRQIexy-f",
    "outputId": "b4cc723c-82bb-41ef-f6bb-155cd29363f0"
   },
   "outputs": [],
   "source": [
    "history = model_cat_dog.fit(train_images1,train_labels1,epochs = 5)"
   ]
  },
  {
   "cell_type": "code",
   "execution_count": null,
   "metadata": {
    "id": "YUD9vbrYMm9J"
   },
   "outputs": [],
   "source": [
    "path3 = 'pets/'"
   ]
  },
  {
   "cell_type": "code",
   "execution_count": null,
   "metadata": {},
   "outputs": [],
   "source": [
    "path4 = 'pets2/'"
   ]
  },
  {
   "cell_type": "code",
   "execution_count": null,
   "metadata": {
    "id": "lVvZ4JB63tL3"
   },
   "outputs": [],
   "source": [
    "#to predict new images \n",
    "def predict_image(imagepath, classifier):\n",
    "    predict = load_img(imagepath+file, target_size = (150,150))\n",
    "    predict_modified = img_to_array(predict)\n",
    "    predict_modified = predict_modified /255\n",
    "    predict_modified = np.expand_dims(predict_modified, axis = 0)\n",
    "    result = model_cat_dog.predict(predict_modified)\n",
    "    if result[0][0] > 0.5:\n",
    "        prediction = 'dog'\n",
    "        probability = result[0][0]\n",
    "        print (\"probability = \" + str(probability))\n",
    "    else:\n",
    "        prediction = 'cat'\n",
    "        probability = 1 - result[0][0]\n",
    "        print (\"probability = \" + str(probability))\n",
    "    print(\"Prediction = \" + prediction)\n",
    "    "
   ]
  },
  {
   "cell_type": "code",
   "execution_count": null,
   "metadata": {
    "colab": {
     "base_uri": "https://localhost:8080/"
    },
    "id": "7dRtZvy_TI2S",
    "outputId": "6337b238-1e55-4df4-ac75-6fc04fa4b21f"
   },
   "outputs": [],
   "source": [
    "predict_image(path3, model_cat_dog)"
   ]
  },
  {
   "cell_type": "code",
   "execution_count": null,
   "metadata": {
    "id": "MRGKtz39dhFr"
   },
   "outputs": [],
   "source": [
    "predict_image(path4, model_cat_dog)"
   ]
  },
  {
   "cell_type": "code",
   "execution_count": null,
   "metadata": {},
   "outputs": [],
   "source": []
  }
 ],
 "metadata": {
  "colab": {
   "provenance": []
  },
  "kernelspec": {
   "display_name": "Python 3 (ipykernel)",
   "language": "python",
   "name": "python3"
  },
  "language_info": {
   "codemirror_mode": {
    "name": "ipython",
    "version": 3
   },
   "file_extension": ".py",
   "mimetype": "text/x-python",
   "name": "python",
   "nbconvert_exporter": "python",
   "pygments_lexer": "ipython3",
   "version": "3.9.7"
  }
 },
 "nbformat": 4,
 "nbformat_minor": 1
}
