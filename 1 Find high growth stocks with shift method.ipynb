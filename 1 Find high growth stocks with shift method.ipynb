{
 "cells": [
  {
   "cell_type": "code",
   "execution_count": null,
   "id": "1096abad",
   "metadata": {},
   "outputs": [],
   "source": [
    "import pandas as pd\n",
    "import numpy as np\n",
    "import matplotlib.pyplot as plt\n",
    "import yfinance as yf\n",
    "import xlwings as xw"
   ]
  },
  {
   "cell_type": "code",
   "execution_count": null,
   "id": "2e5478ba",
   "metadata": {},
   "outputs": [],
   "source": [
    "high_growth_list = [\"AAPL\", \"ACLS\", 'AMD', 'AMPY', \"AMZN\", 'ARVN', 'ARWR', 'ATSG', 'AUDC','AYX', \n",
    "                    'BCRX', 'BPT','BRM', 'BRN', 'BTG', 'BTH', 'BTU', 'CALX', 'CLFD', 'CRM', 'CYP', 'DVN', 'DXCM',\n",
    "                    'ELEF', 'ENPH', 'ETSY', 'EVER', 'EXCE', 'FCX', 'FIVN', 'FMC', 'FSM', \n",
    "                    'GLDG', 'GROY', 'GTN', 'IIPR', 'ILMN', 'IPA', 'KLIC',\n",
    "                    'LAC',  'LRTNF', 'LSCC', 'LUGDF', 'MA', 'MAXR', 'MNST', 'MTEM', 'MU',\n",
    "                    'NFLX', 'NINE', 'NRGU','NVDA', 'OESX', 'ON', \n",
    "                    'PBF','ROKU', 'SHOP', 'SI', 'SIRI',  'SMLR', 'SQ', 'STNG','SWKS',\n",
    "                    'TELL', 'TH','TSLA', 'TTD',\n",
    "                    'UEC', 'WYNN', 'ZM'\n",
    "                   ]"
   ]
  },
  {
   "cell_type": "code",
   "execution_count": null,
   "id": "0d98242a",
   "metadata": {},
   "outputs": [],
   "source": [
    "lower_growth_list = [\"ADBE\", \"AKBA\", \"AKRO\", \"AXP\", \"ALB\", \"ASC\",\"ATNM\", \"ATVI\", \"AVAV\", \"AXP\",\n",
    "                     \"BAC\", \"BAND\", \"CAG\", \"BRK-B\",\"BBY\", \"BTU\", \"CMI\",\"COIN\", \"COST\", \"EA\",\n",
    "                     \"EBS\", \"EGIO\", \"EOG\",\"ELV\",\"EQX\",\"EXCE\",\"FE\", \"FSLR\", \"GLD\", \"GILD\", \"GOOG\", \n",
    "                     \"IVN\", 'JNJ', 'JPM',\"KEYS\", \"KLXE\", \"KNSL\", 'KO',\"LCR\", 'LANC', \"LLY\", \"LUGDF\", \"META\",\n",
    "                     \"MSFT\", 'MTSI', \"MMM\", \"NEM\", \"NOW\", \"ORLY\", \"OTCM\", \"PH\",\"PNK\",\n",
    "                     \"QS\" \"RIG\", \"SBUX\", 'SGEN','SPLS', 'TDOC', 'TSA', 'TSN', 'UAA','UI','V',\"VEEV\",\n",
    "                     'VRTX', 'WDC','TRMD', \"ZM\"\n",
    "                    ]"
   ]
  },
  {
   "cell_type": "code",
   "execution_count": null,
   "id": "0d74b7d0",
   "metadata": {},
   "outputs": [],
   "source": [
    "#Unfiltered for dates\n",
    "growth_list_6mo = ['AKRO', 'COIN', 'COST', 'LLY', 'FE', 'BTH', 'BTU', 'EOG', 'BRK-B', 'RIG', 'DVN', \n",
    "                   'MTSI', 'QS', 'BRN', 'KEYS', 'ALB', 'CALX', 'NOW', 'ETSY', 'BAND', 'MAXR', 'EXCE',\n",
    "                   'EQX', 'PH', 'LCR','EGIO', 'KNSL', 'AKBA', 'ARVN', 'EGIO', 'JPLS', 'ENPH', 'EVER', \n",
    "                   'OESX', 'ROKU', 'IIPR', 'AYX', 'AVAV', 'PNK', 'IPA', 'AMD', 'JNJ','FSM', 'NEM', 'BTG', \n",
    "                   'LRTNF', 'FIVN', 'CYP', 'OTCM', 'META', 'ATNM', 'EA', 'MTEM', 'IVN', 'NVDA', 'LSCC', \n",
    "                   'CRM', 'ACLS', 'GTN', 'CLFD', 'LUGDF', 'CAG', 'KLIC', 'SBUX', 'MSFT', 'BAC', 'AXP', \n",
    "                   'MMM','KO','BCRX','ELV', 'ADBE', 'CMI', 'ATSG', 'LAC', 'FCX', 'MU', 'DXCM', 'LANC', \n",
    "                   'ORLY', 'EBS', 'FSLR', 'MA', 'GLD', 'MNST', 'GOOG', 'AAPL', 'BRM', 'ARWR','ATVI' \n",
    "                   'ILMN', 'AMZN', 'AUDC', 'ON', 'GILD', 'NFLX']"
   ]
  },
  {
   "cell_type": "code",
   "execution_count": null,
   "id": "0eb9f06a",
   "metadata": {},
   "outputs": [],
   "source": [
    "#Filtered for 2018-2022\n",
    "growth_list_6mo = [\"AKBA\", \"ALB\", \"ARVN\", \"AVAV\", \"AYX\", \"BAND\", \"BRK-B\", \"BRN\", \"COIN\",\n",
    "                   \"COST\", \"DVN\", \"EGIO\", \"ENPH\", \"EOG\", \"EQX\", \"ETSY\", \"EVER\", \"IIPR\", \"KEYS\",\n",
    "                   'KNSL', 'LCR', 'LLY', 'NOW', 'OESX','QS', 'ROKU', 'MAXR', 'MTSI', 'CALX',\n",
    "                   'BTH', 'EXCE', 'FE', 'PH', 'RIG', 'BTU', 'JPLS']"
   ]
  },
  {
   "cell_type": "code",
   "execution_count": null,
   "id": "1e4fc64f",
   "metadata": {},
   "outputs": [],
   "source": [
    "ticker = \"COST\" "
   ]
  },
  {
   "cell_type": "code",
   "execution_count": null,
   "id": "bb1bc876",
   "metadata": {},
   "outputs": [],
   "source": [
    "df = yf.download(ticker, start = \"2002-01-01\", end = \"2022-11-06\")"
   ]
  },
  {
   "cell_type": "code",
   "execution_count": null,
   "id": "c21d78e5",
   "metadata": {},
   "outputs": [],
   "source": [
    "type(\"Date\")"
   ]
  },
  {
   "cell_type": "code",
   "execution_count": null,
   "id": "90997d9d",
   "metadata": {},
   "outputs": [],
   "source": [
    "df"
   ]
  },
  {
   "cell_type": "code",
   "execution_count": null,
   "id": "3f39692e",
   "metadata": {},
   "outputs": [],
   "source": [
    "df.info()"
   ]
  },
  {
   "cell_type": "code",
   "execution_count": null,
   "id": "62788dce",
   "metadata": {},
   "outputs": [],
   "source": [
    "df.rename(columns = {\"Adj Close\": \"Adj_Close\"}, inplace = True)"
   ]
  },
  {
   "cell_type": "code",
   "execution_count": null,
   "id": "e6128bd1",
   "metadata": {},
   "outputs": [],
   "source": [
    "df = df[\"Adj_Close\"].copy().to_frame()"
   ]
  },
  {
   "cell_type": "code",
   "execution_count": null,
   "id": "31b7921c",
   "metadata": {},
   "outputs": [],
   "source": [
    "df.head()"
   ]
  },
  {
   "cell_type": "code",
   "execution_count": null,
   "id": "684a197c",
   "metadata": {},
   "outputs": [],
   "source": [
    "df.Adj_Close.iloc[126]"
   ]
  },
  {
   "cell_type": "code",
   "execution_count": null,
   "id": "dcf4d12a",
   "metadata": {},
   "outputs": [],
   "source": [
    "df[\"Start_6mo\"] = df.shift(periods = 126) #shift 6 months"
   ]
  },
  {
   "cell_type": "code",
   "execution_count": null,
   "id": "64b16001",
   "metadata": {},
   "outputs": [],
   "source": [
    "df[\"Start_6mo\"]"
   ]
  },
  {
   "cell_type": "code",
   "execution_count": null,
   "id": "b42b2e23",
   "metadata": {},
   "outputs": [],
   "source": [
    "df[\"Start_2yr\"] = df.Adj_Close.shift(periods = 504) #shift 6 months"
   ]
  },
  {
   "cell_type": "code",
   "execution_count": null,
   "id": "81abd86a",
   "metadata": {},
   "outputs": [],
   "source": [
    "df[\"Start_2yr\"]"
   ]
  },
  {
   "cell_type": "code",
   "execution_count": null,
   "id": "02fcb118",
   "metadata": {},
   "outputs": [],
   "source": [
    "pd.set_option(\"display.max_rows\", None)"
   ]
  },
  {
   "cell_type": "code",
   "execution_count": null,
   "id": "faa93ad3",
   "metadata": {},
   "outputs": [],
   "source": [
    "df.isna().sum()"
   ]
  },
  {
   "cell_type": "code",
   "execution_count": null,
   "id": "71d79aad",
   "metadata": {},
   "outputs": [],
   "source": [
    "df[\"Abs_Change_2yr\"] =df.Adj_Close.sub(df.Start_2yr)"
   ]
  },
  {
   "cell_type": "code",
   "execution_count": null,
   "id": "891de022",
   "metadata": {},
   "outputs": [],
   "source": [
    "df[\"Abs_Change_6mo\"] = df.Adj_Close.sub(df.Start_6mo)"
   ]
  },
  {
   "cell_type": "code",
   "execution_count": null,
   "id": "14f26539",
   "metadata": {},
   "outputs": [],
   "source": [
    "df[\"%_change_2yr\"] =(df.Adj_Close / df.Start_2yr -1) * 100"
   ]
  },
  {
   "cell_type": "code",
   "execution_count": null,
   "id": "ef3e2e4a",
   "metadata": {},
   "outputs": [],
   "source": [
    "df[\"%_change_2yr\"]"
   ]
  },
  {
   "cell_type": "code",
   "execution_count": null,
   "id": "681c36ea",
   "metadata": {},
   "outputs": [],
   "source": [
    "df[\"%_change_6mo\"] =(df.Adj_Close / df.Start_6mo -1) * 100"
   ]
  },
  {
   "cell_type": "code",
   "execution_count": null,
   "id": "86c20f74",
   "metadata": {},
   "outputs": [],
   "source": [
    "df[\"%_change_6mo\"]"
   ]
  },
  {
   "cell_type": "code",
   "execution_count": null,
   "id": "dc49a533",
   "metadata": {},
   "outputs": [],
   "source": [
    "df.tail()"
   ]
  },
  {
   "cell_type": "code",
   "execution_count": null,
   "id": "e0dbc72e",
   "metadata": {},
   "outputs": [],
   "source": [
    "df[\"%_change_2yr\"].max()"
   ]
  },
  {
   "cell_type": "code",
   "execution_count": null,
   "id": "7469dc03",
   "metadata": {},
   "outputs": [],
   "source": [
    "df[\"%_change_6mo\"].max()"
   ]
  },
  {
   "cell_type": "code",
   "execution_count": null,
   "id": "1a5f6b5e",
   "metadata": {},
   "outputs": [],
   "source": [
    "#These give the dates of the max 2yr & 6mo\n",
    "result_2yr = df.iloc[df[\"%_change_2yr\"].argmax()]\n",
    "result_2yr"
   ]
  },
  {
   "cell_type": "code",
   "execution_count": null,
   "id": "824de8e3",
   "metadata": {},
   "outputs": [],
   "source": [
    "result_6mo = df.iloc[df[\"%_change_6mo\"].argmax()]\n",
    "result_6mo"
   ]
  },
  {
   "cell_type": "markdown",
   "id": "8522cc7c",
   "metadata": {},
   "source": [
    "#### Change the cell targets"
   ]
  },
  {
   "cell_type": "code",
   "execution_count": null,
   "id": "c7f1ed89",
   "metadata": {},
   "outputs": [],
   "source": [
    "path = \"Model_Tickers2.xlsx\""
   ]
  },
  {
   "cell_type": "code",
   "execution_count": null,
   "id": "3d77baf0",
   "metadata": {},
   "outputs": [],
   "source": [
    "wb = xw.Book(path)\n",
    "wb"
   ]
  },
  {
   "cell_type": "code",
   "execution_count": null,
   "id": "e874cb5f",
   "metadata": {},
   "outputs": [],
   "source": [
    "sheet = wb.sheets[0]\n",
    "sheet"
   ]
  },
  {
   "cell_type": "code",
   "execution_count": null,
   "id": "bbd4dc29",
   "metadata": {},
   "outputs": [],
   "source": [
    "sheet.range(\"A150\").value = ticker"
   ]
  },
  {
   "cell_type": "code",
   "execution_count": null,
   "id": "46161722",
   "metadata": {},
   "outputs": [],
   "source": [
    "sheet.range(\"A150\").value = result_2yr"
   ]
  },
  {
   "cell_type": "code",
   "execution_count": null,
   "id": "884f182e",
   "metadata": {},
   "outputs": [],
   "source": [
    "sheet.range(\"A150\").value = result_6mo"
   ]
  }
 ],
 "metadata": {
  "kernelspec": {
   "display_name": "Python 3 (ipykernel)",
   "language": "python",
   "name": "python3"
  },
  "language_info": {
   "codemirror_mode": {
    "name": "ipython",
    "version": 3
   },
   "file_extension": ".py",
   "mimetype": "text/x-python",
   "name": "python",
   "nbconvert_exporter": "python",
   "pygments_lexer": "ipython3",
   "version": "3.9.7"
  }
 },
 "nbformat": 4,
 "nbformat_minor": 5
}
